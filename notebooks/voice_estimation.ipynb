{
 "cells": [
  {
   "cell_type": "code",
   "execution_count": null,
   "metadata": {},
   "outputs": [],
   "source": [
    "# Install all prerequisites\n",
    "%pip install -r ../requirements.txt"
   ]
  },
  {
   "cell_type": "markdown",
   "metadata": {},
   "source": [
    "# Dataset preparation"
   ]
  },
  {
   "cell_type": "code",
   "execution_count": null,
   "metadata": {},
   "outputs": [],
   "source": [
    "# Define URLs and download/extract paths\n",
    "url = \"https://md-datasets-cache-zipfiles-prod.s3.eu-west-1.amazonaws.com/zw4p4p7sdh-1.zip\"\n",
    "zipfile_path = \"../data/raw/\" + url.split(\"/\")[-1]\n",
    "extract_path = \"../data/external/\""
   ]
  },
  {
   "cell_type": "code",
   "execution_count": null,
   "metadata": {},
   "outputs": [],
   "source": [
    "import requests\n",
    "from tqdm import tqdm\n",
    "\n",
    "# Download the dataset\n",
    "response = requests.get(url, stream = True)\n",
    "with open(zipfile_path, \"wb\") as handle:\n",
    "  for data in tqdm(response.iter_content(), total = int(response.headers['Content-Length'])):\n",
    "    handle.write(data)"
   ]
  },
  {
   "cell_type": "code",
   "execution_count": null,
   "metadata": {},
   "outputs": [],
   "source": [
    "from zipfile import ZipFile\n",
    "\n",
    "# Extract the dataset\n",
    "with ZipFile(zipfile_path, \"r\") as handle:\n",
    "  handle.extractall(extract_path)"
   ]
  },
  {
   "cell_type": "markdown",
   "metadata": {},
   "source": [
    "# Feature extraction"
   ]
  },
  {
   "cell_type": "code",
   "execution_count": null,
   "metadata": {},
   "outputs": [],
   "source": [
    "import os\n",
    "\n",
    "# Set dataset path and inspect\n",
    "extract_path = \"../data/external/\"\n",
    "dataset_path = extract_path + \"\".join(url.split(\"/\")[-1].split(\".\")[:-1]) + \"/\"\n",
    "os.walk(dataset_path)"
   ]
  },
  {
   "cell_type": "code",
   "execution_count": null,
   "metadata": {},
   "outputs": [],
   "source": [
    "import pandas as pd\n",
    "\n",
    "# Import and inspect speakers metadata\n",
    "speakers = pd.read_csv(dataset_path + \"speakers.csv\")\n",
    "speakers"
   ]
  },
  {
   "cell_type": "code",
   "execution_count": null,
   "metadata": {},
   "outputs": [],
   "source": [
    "# speakers.csv is padded with redundant lines, remove\n",
    "speakers.dropna(axis = 0, how = \"all\", inplace = True)\n",
    "speakers.dropna(axis = 1, how = \"all\", inplace = True)\n",
    "\n",
    "# Convert ID to int and set as index\n",
    "speakers.set_index(speakers[\"ID\"].astype(int), inplace = True)\n",
    "speakers.drop(\"ID\", axis = 1, inplace = True)\n",
    "\n",
    "# Save modified metadata\n",
    "feature_path = \"../data/processed/\"\n",
    "speakers.to_csv(feature_path + \"speakers.csv\")\n",
    "speakers"
   ]
  },
  {
   "cell_type": "code",
   "execution_count": null,
   "metadata": {},
   "outputs": [],
   "source": [
    "import librosa\n",
    "import numpy as np\n",
    "from glob import glob\n",
    "\n",
    "sample_rate = 48000\n",
    "duration = 3\n",
    "spectrograms = []\n",
    "\n",
    "# Glob FLAC files\n",
    "for id in tqdm(speakers.index):\n",
    "  if not os.path.exists(feature_path + str(id)):\n",
    "    os.mkdir(feature_path + str(id))\n",
    "\n",
    "  for audio_file in glob(dataset_path + \"*/\" + str(id) + \"/*.flac\"):\n",
    "    # Generate log mel spectrogram\n",
    "    audio = librosa.load(audio_file, sr = sample_rate, duration = duration)[0].copy()\n",
    "    audio.resize(sample_rate * duration)\n",
    "    spec = librosa.feature.melspectrogram(y = audio, sr = sample_rate)\n",
    "    spec = librosa.power_to_db(spec, ref = np.max)\n",
    "    spec = (spec - spec.mean()) / spec.std()\n",
    "    spec = (spec - spec.min()) / (spec.max() - spec.min())\n",
    "\n",
    "    # Save as .npy\n",
    "    np.save(feature_path + str(id) + \"/\" + \"\".join(audio_file.split(\"/\")[-1].split(\".\")[:-1]) + \".npy\", spec)"
   ]
  },
  {
   "cell_type": "markdown",
   "metadata": {},
   "source": [
    "# Training"
   ]
  },
  {
   "cell_type": "code",
   "execution_count": 2,
   "metadata": {},
   "outputs": [
    {
     "data": {
      "text/html": [
       "<div>\n",
       "<style scoped>\n",
       "    .dataframe tbody tr th:only-of-type {\n",
       "        vertical-align: middle;\n",
       "    }\n",
       "\n",
       "    .dataframe tbody tr th {\n",
       "        vertical-align: top;\n",
       "    }\n",
       "\n",
       "    .dataframe thead th {\n",
       "        text-align: right;\n",
       "    }\n",
       "</style>\n",
       "<table border=\"1\" class=\"dataframe\">\n",
       "  <thead>\n",
       "    <tr style=\"text-align: right;\">\n",
       "      <th></th>\n",
       "      <th>Gender</th>\n",
       "      <th>Age</th>\n",
       "      <th>Weight</th>\n",
       "      <th>Height</th>\n",
       "    </tr>\n",
       "    <tr>\n",
       "      <th>ID</th>\n",
       "      <th></th>\n",
       "      <th></th>\n",
       "      <th></th>\n",
       "      <th></th>\n",
       "    </tr>\n",
       "  </thead>\n",
       "  <tbody>\n",
       "    <tr>\n",
       "      <th>1</th>\n",
       "      <td>f</td>\n",
       "      <td>43.0</td>\n",
       "      <td>85.0</td>\n",
       "      <td>166.0</td>\n",
       "    </tr>\n",
       "    <tr>\n",
       "      <th>2</th>\n",
       "      <td>f</td>\n",
       "      <td>13.0</td>\n",
       "      <td>50.0</td>\n",
       "      <td>158.0</td>\n",
       "    </tr>\n",
       "    <tr>\n",
       "      <th>3</th>\n",
       "      <td>m</td>\n",
       "      <td>9.0</td>\n",
       "      <td>32.0</td>\n",
       "      <td>134.0</td>\n",
       "    </tr>\n",
       "    <tr>\n",
       "      <th>4</th>\n",
       "      <td>f</td>\n",
       "      <td>22.0</td>\n",
       "      <td>58.0</td>\n",
       "      <td>162.0</td>\n",
       "    </tr>\n",
       "    <tr>\n",
       "      <th>5</th>\n",
       "      <td>f</td>\n",
       "      <td>18.0</td>\n",
       "      <td>63.0</td>\n",
       "      <td>168.0</td>\n",
       "    </tr>\n",
       "    <tr>\n",
       "      <th>...</th>\n",
       "      <td>...</td>\n",
       "      <td>...</td>\n",
       "      <td>...</td>\n",
       "      <td>...</td>\n",
       "    </tr>\n",
       "    <tr>\n",
       "      <th>146</th>\n",
       "      <td>f</td>\n",
       "      <td>25.0</td>\n",
       "      <td>60.0</td>\n",
       "      <td>166.0</td>\n",
       "    </tr>\n",
       "    <tr>\n",
       "      <th>147</th>\n",
       "      <td>f</td>\n",
       "      <td>22.0</td>\n",
       "      <td>65.0</td>\n",
       "      <td>161.0</td>\n",
       "    </tr>\n",
       "    <tr>\n",
       "      <th>148</th>\n",
       "      <td>f</td>\n",
       "      <td>27.0</td>\n",
       "      <td>55.0</td>\n",
       "      <td>150.0</td>\n",
       "    </tr>\n",
       "    <tr>\n",
       "      <th>149</th>\n",
       "      <td>m</td>\n",
       "      <td>29.0</td>\n",
       "      <td>77.0</td>\n",
       "      <td>171.0</td>\n",
       "    </tr>\n",
       "    <tr>\n",
       "      <th>150</th>\n",
       "      <td>f</td>\n",
       "      <td>22.0</td>\n",
       "      <td>68.0</td>\n",
       "      <td>161.0</td>\n",
       "    </tr>\n",
       "  </tbody>\n",
       "</table>\n",
       "<p>150 rows × 4 columns</p>\n",
       "</div>"
      ],
      "text/plain": [
       "    Gender   Age  Weight  Height\n",
       "ID                              \n",
       "1        f  43.0    85.0   166.0\n",
       "2        f  13.0    50.0   158.0\n",
       "3        m   9.0    32.0   134.0\n",
       "4        f  22.0    58.0   162.0\n",
       "5        f  18.0    63.0   168.0\n",
       "..     ...   ...     ...     ...\n",
       "146      f  25.0    60.0   166.0\n",
       "147      f  22.0    65.0   161.0\n",
       "148      f  27.0    55.0   150.0\n",
       "149      m  29.0    77.0   171.0\n",
       "150      f  22.0    68.0   161.0\n",
       "\n",
       "[150 rows x 4 columns]"
      ]
     },
     "execution_count": 2,
     "metadata": {},
     "output_type": "execute_result"
    }
   ],
   "source": [
    "import pandas as pd\n",
    "\n",
    "# Load speakers.csv\n",
    "feature_path = \"../data/processed/\"\n",
    "speakers = pd.read_csv(feature_path + \"speakers.csv\", index_col = 0)\n",
    "speakers"
   ]
  },
  {
   "cell_type": "code",
   "execution_count": 4,
   "metadata": {},
   "outputs": [
    {
     "name": "stderr",
     "output_type": "stream",
     "text": [
      "100%|██████████| 150/150 [00:02<00:00, 62.28it/s]\n"
     ]
    },
    {
     "data": {
      "text/plain": [
       "(3000, 128, 282, 1)"
      ]
     },
     "execution_count": 4,
     "metadata": {},
     "output_type": "execute_result"
    }
   ],
   "source": [
    "import numpy as np\n",
    "import tensorflow as tf\n",
    "from glob import glob\n",
    "from sklearn.model_selection import train_test_split\n",
    "from tqdm import tqdm\n",
    "\n",
    "test_size = 0.1\n",
    "random_state = 0\n",
    "X, y_gender, y_age = [], [], []\n",
    "\n",
    "# Load features from NumPy caches\n",
    "for id in tqdm(speakers.index):\n",
    "  for feature_file in glob(feature_path + str(id) + \"/*.npy\"):\n",
    "    X.append(np.load(feature_file))\n",
    "    y_gender.append(speakers[\"Gender\"][id] == \"m\")\n",
    "    y_age.append(int(speakers[\"Age\"][id]))\n",
    "\n",
    "# Prepare features and targets\n",
    "X, y_gender, y_age = np.array(X), tf.keras.utils.to_categorical(y_gender, num_classes = len(set(y_gender))), np.array(y_age)\n",
    "X = X.reshape(X.shape + (1,))\n",
    "X_train, X_test, y_gender_train, y_gender_test, y_age_train, y_age_test = train_test_split(X, y_gender, y_age, test_size = 0.1, random_state = 0)\n",
    "X.shape"
   ]
  },
  {
   "cell_type": "code",
   "execution_count": 5,
   "metadata": {},
   "outputs": [
    {
     "name": "stderr",
     "output_type": "stream",
     "text": [
      "2022-06-01 23:39:24.096558: E tensorflow/stream_executor/cuda/cuda_driver.cc:271] failed call to cuInit: CUDA_ERROR_UNKNOWN: unknown error\n",
      "2022-06-01 23:39:24.096603: I tensorflow/stream_executor/cuda/cuda_diagnostics.cc:169] retrieving CUDA diagnostic information for host: sy3c4ll-tfg266\n",
      "2022-06-01 23:39:24.096611: I tensorflow/stream_executor/cuda/cuda_diagnostics.cc:176] hostname: sy3c4ll-tfg266\n",
      "2022-06-01 23:39:24.096756: I tensorflow/stream_executor/cuda/cuda_diagnostics.cc:200] libcuda reported version is: 510.73.5\n",
      "2022-06-01 23:39:24.096782: I tensorflow/stream_executor/cuda/cuda_diagnostics.cc:204] kernel reported version is: 510.73.5\n",
      "2022-06-01 23:39:24.096787: I tensorflow/stream_executor/cuda/cuda_diagnostics.cc:310] kernel version seems to match DSO: 510.73.5\n",
      "2022-06-01 23:39:24.097089: I tensorflow/core/platform/cpu_feature_guard.cc:193] This TensorFlow binary is optimized with oneAPI Deep Neural Network Library (oneDNN) to use the following CPU instructions in performance-critical operations:  AVX2 FMA\n",
      "To enable them in other operations, rebuild TensorFlow with the appropriate compiler flags.\n"
     ]
    },
    {
     "name": "stdout",
     "output_type": "stream",
     "text": [
      "Epoch 1/30\n"
     ]
    },
    {
     "name": "stderr",
     "output_type": "stream",
     "text": [
      "2022-06-01 23:39:24.208833: W tensorflow/core/framework/cpu_allocator_impl.cc:82] Allocation of 350853120 exceeds 10% of free system memory.\n"
     ]
    },
    {
     "name": "stdout",
     "output_type": "stream",
     "text": [
      "304/304 [==============================] - ETA: 0s - loss: 0.3843 - accuracy: 0.8391"
     ]
    },
    {
     "name": "stderr",
     "output_type": "stream",
     "text": [
      "2022-06-01 23:39:59.771988: W tensorflow/core/framework/cpu_allocator_impl.cc:82] Allocation of 38983680 exceeds 10% of free system memory.\n"
     ]
    },
    {
     "name": "stdout",
     "output_type": "stream",
     "text": [
      "304/304 [==============================] - 36s 117ms/step - loss: 0.3843 - accuracy: 0.8391 - val_loss: 0.1281 - val_accuracy: 0.9778\n",
      "Epoch 2/30\n",
      "304/304 [==============================] - 36s 118ms/step - loss: 0.1590 - accuracy: 0.9477 - val_loss: 0.0855 - val_accuracy: 0.9741\n",
      "Epoch 3/30\n",
      "304/304 [==============================] - 35s 115ms/step - loss: 0.1087 - accuracy: 0.9638 - val_loss: 0.0678 - val_accuracy: 0.9815\n",
      "Epoch 4/30\n",
      "304/304 [==============================] - 35s 115ms/step - loss: 0.0769 - accuracy: 0.9716 - val_loss: 0.0726 - val_accuracy: 0.9741\n",
      "Epoch 5/30\n",
      "304/304 [==============================] - 34s 113ms/step - loss: 0.0519 - accuracy: 0.9815 - val_loss: 0.0398 - val_accuracy: 0.9815\n",
      "Epoch 6/30\n",
      "304/304 [==============================] - 35s 114ms/step - loss: 0.0459 - accuracy: 0.9844 - val_loss: 0.0423 - val_accuracy: 0.9852\n",
      "Epoch 7/30\n",
      "304/304 [==============================] - 35s 115ms/step - loss: 0.0347 - accuracy: 0.9893 - val_loss: 0.0417 - val_accuracy: 0.9815\n",
      "Epoch 8/30\n",
      "304/304 [==============================] - 35s 116ms/step - loss: 0.0290 - accuracy: 0.9905 - val_loss: 0.0252 - val_accuracy: 0.9926\n",
      "Epoch 9/30\n",
      "304/304 [==============================] - 35s 115ms/step - loss: 0.0345 - accuracy: 0.9893 - val_loss: 0.0239 - val_accuracy: 0.9889\n",
      "Epoch 10/30\n",
      "304/304 [==============================] - 35s 115ms/step - loss: 0.0215 - accuracy: 0.9926 - val_loss: 0.0314 - val_accuracy: 0.9889\n",
      "Epoch 11/30\n",
      "304/304 [==============================] - 35s 114ms/step - loss: 0.0140 - accuracy: 0.9942 - val_loss: 0.0464 - val_accuracy: 0.9778\n",
      "Epoch 12/30\n",
      "304/304 [==============================] - 35s 115ms/step - loss: 0.0304 - accuracy: 0.9930 - val_loss: 0.0309 - val_accuracy: 0.9889\n",
      "Epoch 13/30\n",
      "304/304 [==============================] - 35s 114ms/step - loss: 0.0231 - accuracy: 0.9930 - val_loss: 0.0302 - val_accuracy: 0.9852\n",
      "Epoch 14/30\n",
      "304/304 [==============================] - 35s 114ms/step - loss: 0.0092 - accuracy: 0.9979 - val_loss: 0.0268 - val_accuracy: 0.9926\n",
      "Epoch 15/30\n",
      "304/304 [==============================] - 35s 115ms/step - loss: 0.0066 - accuracy: 0.9979 - val_loss: 0.0163 - val_accuracy: 0.9889\n",
      "Epoch 16/30\n",
      "304/304 [==============================] - 35s 114ms/step - loss: 0.0218 - accuracy: 0.9926 - val_loss: 0.0260 - val_accuracy: 0.9926\n",
      "Epoch 17/30\n",
      "304/304 [==============================] - 35s 115ms/step - loss: 0.0293 - accuracy: 0.9914 - val_loss: 0.0164 - val_accuracy: 0.9963\n",
      "Epoch 18/30\n",
      "304/304 [==============================] - 35s 114ms/step - loss: 0.0045 - accuracy: 0.9984 - val_loss: 0.0384 - val_accuracy: 0.9926\n",
      "Epoch 19/30\n",
      "304/304 [==============================] - 35s 115ms/step - loss: 0.0190 - accuracy: 0.9947 - val_loss: 0.0263 - val_accuracy: 0.9852\n",
      "Epoch 20/30\n",
      "304/304 [==============================] - 35s 115ms/step - loss: 0.0105 - accuracy: 0.9967 - val_loss: 0.0293 - val_accuracy: 0.9889\n",
      "Epoch 21/30\n",
      "304/304 [==============================] - 25s 81ms/step - loss: 0.0070 - accuracy: 0.9975 - val_loss: 0.0302 - val_accuracy: 0.9926\n",
      "Epoch 22/30\n",
      "304/304 [==============================] - 18s 59ms/step - loss: 0.0079 - accuracy: 0.9988 - val_loss: 0.0395 - val_accuracy: 0.9852\n",
      "Epoch 23/30\n",
      "304/304 [==============================] - 18s 59ms/step - loss: 0.0298 - accuracy: 0.9893 - val_loss: 0.0184 - val_accuracy: 0.9926\n",
      "Epoch 24/30\n",
      "304/304 [==============================] - 18s 59ms/step - loss: 0.0157 - accuracy: 0.9942 - val_loss: 0.0362 - val_accuracy: 0.9926\n",
      "Epoch 25/30\n",
      "304/304 [==============================] - 18s 59ms/step - loss: 0.0151 - accuracy: 0.9951 - val_loss: 0.0510 - val_accuracy: 0.9889\n",
      "Epoch 26/30\n",
      "304/304 [==============================] - 18s 59ms/step - loss: 0.0117 - accuracy: 0.9963 - val_loss: 0.0375 - val_accuracy: 0.9926\n",
      "Epoch 27/30\n",
      "304/304 [==============================] - 18s 59ms/step - loss: 0.0126 - accuracy: 0.9967 - val_loss: 0.0187 - val_accuracy: 0.9889\n",
      "Epoch 28/30\n",
      "304/304 [==============================] - 18s 59ms/step - loss: 0.0040 - accuracy: 0.9992 - val_loss: 0.0160 - val_accuracy: 0.9926\n",
      "Epoch 29/30\n",
      "304/304 [==============================] - 18s 59ms/step - loss: 0.0040 - accuracy: 0.9992 - val_loss: 0.0155 - val_accuracy: 0.9963\n",
      "Epoch 30/30\n",
      "304/304 [==============================] - 18s 59ms/step - loss: 0.0022 - accuracy: 0.9992 - val_loss: 0.0131 - val_accuracy: 0.9963\n"
     ]
    }
   ],
   "source": [
    "from tensorflow.keras.models import Sequential\n",
    "from tensorflow.keras.layers import Conv2D, Dense, Dropout, Flatten, Input, MaxPooling2D\n",
    "\n",
    "batch = 8\n",
    "epochs = 30\n",
    "val_size = 0.1\n",
    "\n",
    "# Make and fit gender classification model\n",
    "model_gender = Sequential([\n",
    "  Input(X.shape[1:]),\n",
    "  Conv2D(16, (3, 3), activation = \"relu\"),\n",
    "  MaxPooling2D((2, 2)),\n",
    "  Conv2D(32, (3, 3), activation = \"relu\"),\n",
    "  MaxPooling2D((2, 2)),\n",
    "  Conv2D(64, (3, 3), activation = \"relu\"),\n",
    "  MaxPooling2D((2, 2)),\n",
    "  Dropout(0.5),\n",
    "  Flatten(),\n",
    "  Dense(64, activation = \"relu\"),\n",
    "  Dense(2, activation = \"softmax\")\n",
    "])\n",
    "model_gender.compile(loss = \"categorical_crossentropy\", optimizer = \"adam\", metrics = [\"accuracy\"])\n",
    "history_gender = model_gender.fit(X_train, y_gender_train, batch_size = batch, epochs = epochs, validation_split = val_size)"
   ]
  },
  {
   "cell_type": "code",
   "execution_count": 12,
   "metadata": {},
   "outputs": [
    {
     "name": "stdout",
     "output_type": "stream",
     "text": [
      "Epoch 1/30\n",
      "304/304 [==============================] - 30s 98ms/step - loss: 4.2378 - mean_absolute_error: 4.2378 - val_loss: 3.1273 - val_mean_absolute_error: 3.1273\n",
      "Epoch 2/30\n",
      "304/304 [==============================] - 35s 114ms/step - loss: 3.4224 - mean_absolute_error: 3.4224 - val_loss: 2.6209 - val_mean_absolute_error: 2.6209\n",
      "Epoch 3/30\n",
      "304/304 [==============================] - 34s 112ms/step - loss: 3.3878 - mean_absolute_error: 3.3878 - val_loss: 2.5661 - val_mean_absolute_error: 2.5661\n",
      "Epoch 4/30\n",
      "304/304 [==============================] - 33s 109ms/step - loss: 3.2400 - mean_absolute_error: 3.2400 - val_loss: 2.9313 - val_mean_absolute_error: 2.9313\n",
      "Epoch 5/30\n",
      "304/304 [==============================] - 40s 131ms/step - loss: 3.2432 - mean_absolute_error: 3.2432 - val_loss: 2.5459 - val_mean_absolute_error: 2.5459\n",
      "Epoch 6/30\n",
      "304/304 [==============================] - 36s 119ms/step - loss: 3.1132 - mean_absolute_error: 3.1132 - val_loss: 2.5977 - val_mean_absolute_error: 2.5977\n",
      "Epoch 7/30\n",
      "304/304 [==============================] - 33s 109ms/step - loss: 3.1023 - mean_absolute_error: 3.1023 - val_loss: 2.4703 - val_mean_absolute_error: 2.4703\n",
      "Epoch 8/30\n",
      "304/304 [==============================] - 35s 116ms/step - loss: 2.9963 - mean_absolute_error: 2.9963 - val_loss: 2.6208 - val_mean_absolute_error: 2.6208\n",
      "Epoch 9/30\n",
      "304/304 [==============================] - 34s 112ms/step - loss: 2.9602 - mean_absolute_error: 2.9602 - val_loss: 2.5723 - val_mean_absolute_error: 2.5723\n",
      "Epoch 10/30\n",
      "304/304 [==============================] - 34s 112ms/step - loss: 2.9357 - mean_absolute_error: 2.9357 - val_loss: 2.6617 - val_mean_absolute_error: 2.6617\n",
      "Epoch 11/30\n",
      "304/304 [==============================] - 34s 112ms/step - loss: 2.8854 - mean_absolute_error: 2.8854 - val_loss: 2.5545 - val_mean_absolute_error: 2.5545\n",
      "Epoch 12/30\n",
      "304/304 [==============================] - 34s 113ms/step - loss: 2.8690 - mean_absolute_error: 2.8690 - val_loss: 2.7998 - val_mean_absolute_error: 2.7998\n",
      "Epoch 13/30\n",
      "304/304 [==============================] - 35s 116ms/step - loss: 2.8435 - mean_absolute_error: 2.8435 - val_loss: 3.0447 - val_mean_absolute_error: 3.0447\n",
      "Epoch 14/30\n",
      "304/304 [==============================] - 37s 121ms/step - loss: 2.7306 - mean_absolute_error: 2.7306 - val_loss: 2.4979 - val_mean_absolute_error: 2.4979\n",
      "Epoch 15/30\n",
      "304/304 [==============================] - 37s 121ms/step - loss: 2.6243 - mean_absolute_error: 2.6243 - val_loss: 2.6064 - val_mean_absolute_error: 2.6064\n",
      "Epoch 16/30\n",
      "304/304 [==============================] - 37s 123ms/step - loss: 2.5879 - mean_absolute_error: 2.5879 - val_loss: 2.6805 - val_mean_absolute_error: 2.6805\n",
      "Epoch 17/30\n",
      "304/304 [==============================] - 37s 121ms/step - loss: 2.5954 - mean_absolute_error: 2.5954 - val_loss: 2.5313 - val_mean_absolute_error: 2.5313\n",
      "Epoch 18/30\n",
      "304/304 [==============================] - 36s 118ms/step - loss: 2.5019 - mean_absolute_error: 2.5019 - val_loss: 2.4586 - val_mean_absolute_error: 2.4586\n",
      "Epoch 19/30\n",
      "304/304 [==============================] - 36s 119ms/step - loss: 2.5798 - mean_absolute_error: 2.5798 - val_loss: 2.5314 - val_mean_absolute_error: 2.5314\n",
      "Epoch 20/30\n",
      "304/304 [==============================] - 36s 118ms/step - loss: 2.3986 - mean_absolute_error: 2.3986 - val_loss: 2.6569 - val_mean_absolute_error: 2.6569\n",
      "Epoch 21/30\n",
      "304/304 [==============================] - 37s 122ms/step - loss: 2.3821 - mean_absolute_error: 2.3821 - val_loss: 2.5756 - val_mean_absolute_error: 2.5756\n",
      "Epoch 22/30\n",
      "304/304 [==============================] - 37s 121ms/step - loss: 2.4064 - mean_absolute_error: 2.4064 - val_loss: 2.5796 - val_mean_absolute_error: 2.5796\n",
      "Epoch 23/30\n",
      "304/304 [==============================] - 39s 128ms/step - loss: 2.3107 - mean_absolute_error: 2.3107 - val_loss: 2.5657 - val_mean_absolute_error: 2.5657\n",
      "Epoch 24/30\n",
      "304/304 [==============================] - 37s 122ms/step - loss: 2.2062 - mean_absolute_error: 2.2062 - val_loss: 2.4899 - val_mean_absolute_error: 2.4899\n",
      "Epoch 25/30\n",
      "304/304 [==============================] - 38s 124ms/step - loss: 2.1913 - mean_absolute_error: 2.1913 - val_loss: 2.5222 - val_mean_absolute_error: 2.5222\n",
      "Epoch 26/30\n",
      "304/304 [==============================] - 35s 116ms/step - loss: 2.1203 - mean_absolute_error: 2.1203 - val_loss: 2.5003 - val_mean_absolute_error: 2.5003\n",
      "Epoch 27/30\n",
      "304/304 [==============================] - 35s 115ms/step - loss: 1.9354 - mean_absolute_error: 1.9354 - val_loss: 2.5556 - val_mean_absolute_error: 2.5556\n",
      "Epoch 28/30\n",
      "304/304 [==============================] - 38s 126ms/step - loss: 1.9186 - mean_absolute_error: 1.9186 - val_loss: 2.6144 - val_mean_absolute_error: 2.6144\n",
      "Epoch 29/30\n",
      "304/304 [==============================] - 44s 145ms/step - loss: 1.8335 - mean_absolute_error: 1.8335 - val_loss: 2.8681 - val_mean_absolute_error: 2.8681\n",
      "Epoch 30/30\n",
      "304/304 [==============================] - 38s 124ms/step - loss: 1.7629 - mean_absolute_error: 1.7629 - val_loss: 2.6129 - val_mean_absolute_error: 2.6129\n"
     ]
    }
   ],
   "source": [
    "# Make and fit age regression model\n",
    "model_age = Sequential([\n",
    "  Input(X.shape[1:]),\n",
    "  Conv2D(16, (3, 3), activation = \"relu\"),\n",
    "  MaxPooling2D((2, 2)),\n",
    "  Conv2D(32, (3, 3), activation = \"relu\"),\n",
    "  MaxPooling2D((2, 2)),\n",
    "  Conv2D(64, (3, 3), activation = \"relu\"),\n",
    "  MaxPooling2D((2, 2)),\n",
    "  Dropout(0.5),\n",
    "  Flatten(),\n",
    "  Dense(64, activation = \"relu\"),\n",
    "  Dense(1)\n",
    "])\n",
    "model_age.compile(loss = \"mean_absolute_error\", optimizer = \"adam\", metrics = [\"mean_absolute_error\"])\n",
    "history_age = model_age.fit(X_train, y_age_train, batch_size = batch, epochs = epochs, validation_split = val_size)"
   ]
  },
  {
   "cell_type": "code",
   "execution_count": 9,
   "metadata": {},
   "outputs": [
    {
     "data": {
      "image/png": "[encoded data removed]",
      "text/plain": [
       "<Figure size 432x288 with 1 Axes>"
      ]
     },
     "metadata": {
      "needs_background": "light"
     },
     "output_type": "display_data"
    },
    {
     "data": {
      "text/plain": [
       "<Figure size 432x288 with 0 Axes>"
      ]
     },
     "metadata": {},
     "output_type": "display_data"
    },
    {
     "name": "stdout",
     "output_type": "stream",
     "text": [
      " 3/10 [========>.....................] - ETA: 0s - loss: 0.1363 - accuracy: 0.9792"
     ]
    },
    {
     "name": "stderr",
     "output_type": "stream",
     "text": [
      "2022-06-02 01:00:09.777453: W tensorflow/core/framework/cpu_allocator_impl.cc:82] Allocation of 72253440 exceeds 10% of free system memory.\n"
     ]
    },
    {
     "name": "stdout",
     "output_type": "stream",
     "text": [
      "10/10 [==============================] - 1s 63ms/step - loss: 0.0599 - accuracy: 0.9833\n"
     ]
    },
    {
     "data": {
      "text/plain": [
       "0.9833333492279053"
      ]
     },
     "execution_count": 9,
     "metadata": {},
     "output_type": "execute_result"
    }
   ],
   "source": [
    "import matplotlib.pyplot as plt\n",
    "\n",
    "# Display accuracy metrics for gender classification model\n",
    "plt.plot(range(epochs), history_gender.history[\"accuracy\"], \"r\", label = \"Training accuracy\")\n",
    "plt.plot(range(epochs), history_gender.history[\"val_accuracy\"], \"b\", label = \"Validation accuracy\")\n",
    "plt.title(\"Gender accuracy\")\n",
    "plt.legend(loc = 0)\n",
    "plt.figure()\n",
    "plt.show()\n",
    "\n",
    "loss_gender, acc_gender = model_gender.evaluate(X_test, y_gender_test)\n",
    "acc_gender"
   ]
  },
  {
   "cell_type": "code",
   "execution_count": 14,
   "metadata": {},
   "outputs": [
    {
     "data": {
      "image/png": "[encoded data removed]",
      "text/plain": [
       "<Figure size 432x288 with 1 Axes>"
      ]
     },
     "metadata": {
      "needs_background": "light"
     },
     "output_type": "display_data"
    },
    {
     "data": {
      "text/plain": [
       "<Figure size 432x288 with 0 Axes>"
      ]
     },
     "metadata": {},
     "output_type": "display_data"
    },
    {
     "name": "stdout",
     "output_type": "stream",
     "text": [
      "10/10 [==============================] - 1s 67ms/step - loss: 2.4565 - mean_absolute_error: 2.4565\n"
     ]
    },
    {
     "data": {
      "text/plain": [
       "2.4565162658691406"
      ]
     },
     "execution_count": 14,
     "metadata": {},
     "output_type": "execute_result"
    }
   ],
   "source": [
    "# Display accuracy metrics for age regression model\n",
    "plt.plot(range(epochs), history_age.history[\"mean_absolute_error\"], \"r\", label = \"Training accuracy\")\n",
    "plt.plot(range(epochs), history_age.history[\"val_mean_absolute_error\"], \"b\", label = \"Validation accuracy\")\n",
    "plt.title(\"Age accuracy\")\n",
    "plt.legend(loc = 0)\n",
    "plt.figure()\n",
    "plt.show()\n",
    "\n",
    "loss_age, acc_age = model_age.evaluate(X_test, y_age_test)\n",
    "acc_age"
   ]
  },
  {
   "cell_type": "code",
   "execution_count": 15,
   "metadata": {},
   "outputs": [],
   "source": [
    "model_path = \"../models/\"\n",
    "\n",
    "# Save models as HDF5\n",
    "model_gender.save(model_path + \"gender.h5\")\n",
    "model_age.save(model_path + \"age.h5\")"
   ]
  },
  {
   "cell_type": "markdown",
   "metadata": {},
   "source": [
    "# Predicting"
   ]
  },
  {
   "cell_type": "code",
   "execution_count": 17,
   "metadata": {},
   "outputs": [],
   "source": [
    "from tensorflow.keras.models import load_model\n",
    "\n",
    "# Load models from HDF5\n",
    "model_path = \"../models/\"\n",
    "model_gender = load_model(model_path + \"gender.h5\")\n",
    "model_age = load_model(model_path + \"age.h5\")"
   ]
  },
  {
   "cell_type": "code",
   "execution_count": 45,
   "metadata": {},
   "outputs": [
    {
     "data": {
      "text/plain": [
       "'../data/external/zw4p4p7sdh-1/differentPhrase/1/1-12.flac'"
      ]
     },
     "execution_count": 45,
     "metadata": {},
     "output_type": "execute_result"
    }
   ],
   "source": [
    "import librosa\n",
    "import numpy as np\n",
    "from glob import glob\n",
    "\n",
    "target = glob(\"../data/external/*/*/*/*.flac\")[0]\n",
    "sample_rate = 48000\n",
    "duration = 3\n",
    "\n",
    "# Prepare target\n",
    "audio = librosa.load(target, sr = sample_rate, duration = duration)[0].copy()\n",
    "audio.resize(sample_rate * duration)\n",
    "spec = librosa.feature.melspectrogram(y = audio, sr = sample_rate)\n",
    "spec = librosa.power_to_db(spec, ref = np.max)\n",
    "spec = (spec - spec.mean()) / spec.std()\n",
    "spec = (spec - spec.min()) / (spec.max() - spec.min())\n",
    "spec = spec.reshape((1,) + spec.shape + (1,))\n",
    "\n",
    "target"
   ]
  },
  {
   "cell_type": "code",
   "execution_count": 46,
   "metadata": {},
   "outputs": [
    {
     "name": "stdout",
     "output_type": "stream",
     "text": [
      "1/1 [==============================] - 0s 57ms/step\n",
      "1/1 [==============================] - 0s 39ms/step\n"
     ]
    },
    {
     "data": {
      "text/plain": [
       "(array([9.999999e-01, 7.862037e-08], dtype=float32),\n",
       " array([36.851074], dtype=float32))"
      ]
     },
     "execution_count": 46,
     "metadata": {},
     "output_type": "execute_result"
    }
   ],
   "source": [
    "# Compute predictions\n",
    "gender = model_gender.predict(spec)[0]\n",
    "age = model_age.predict(spec)[0]\n",
    "gender, age"
   ]
  },
  {
   "cell_type": "code",
   "execution_count": 47,
   "metadata": {},
   "outputs": [
    {
     "name": "stdout",
     "output_type": "stream",
     "text": [
      "Gender:\tf\n",
      "Age:\t36.851074\n"
     ]
    }
   ],
   "source": [
    "# Interpret results\n",
    "print(\"Gender:\\t\" + (\"m\" if np.argmax(gender) else \"f\"))\n",
    "print(\"Age:\\t\" + str(age[0]))"
   ]
  }
 ],
 "metadata": {
  "kernelspec": {
   "display_name": "Python 3.9.12 ('ml')",
   "language": "python",
   "name": "python3"
  },
  "language_info": {
   "codemirror_mode": {
    "name": "ipython",
    "version": 3
   },
   "file_extension": ".py",
   "mimetype": "text/x-python",
   "name": "python",
   "nbconvert_exporter": "python",
   "pygments_lexer": "ipython3",
   "version": "3.9.12"
  },
  "orig_nbformat": 4,
  "vscode": {
   "interpreter": {
    "hash": "51043541ed4fb692abf6f966265e7d5eac6af0624a795e709be38ba7c4d282b3"
   }
  }
 },
 "nbformat": 4,
 "nbformat_minor": 2
}
